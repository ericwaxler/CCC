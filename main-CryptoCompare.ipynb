{
 "cells": [
  {
   "cell_type": "code",
   "execution_count": 141,
   "metadata": {},
   "outputs": [
    {
     "ename": "OSError",
     "evalue": "Could not find kaggle.json. Make sure it's located in /home/ubuntu/.kaggle. Or use the environment method.",
     "output_type": "error",
     "traceback": [
      "\u001b[0;31m---------------------------------------------------------------------------\u001b[0m",
      "\u001b[0;31mOSError\u001b[0m                                   Traceback (most recent call last)",
      "\u001b[0;32m<ipython-input-141-bf3b7226a18f>\u001b[0m in \u001b[0;36m<module>\u001b[0;34m\u001b[0m\n\u001b[1;32m      7\u001b[0m \u001b[0;32mimport\u001b[0m \u001b[0mtime\u001b[0m\u001b[0;34m\u001b[0m\u001b[0;34m\u001b[0m\u001b[0m\n\u001b[1;32m      8\u001b[0m \u001b[0;32mimport\u001b[0m \u001b[0mre\u001b[0m\u001b[0;34m\u001b[0m\u001b[0;34m\u001b[0m\u001b[0m\n\u001b[0;32m----> 9\u001b[0;31m \u001b[0;32mimport\u001b[0m \u001b[0mkaggle\u001b[0m\u001b[0;34m\u001b[0m\u001b[0;34m\u001b[0m\u001b[0m\n\u001b[0m\u001b[1;32m     10\u001b[0m \u001b[0;34m\u001b[0m\u001b[0m\n\u001b[1;32m     11\u001b[0m \u001b[0;32mimport\u001b[0m \u001b[0mboto3\u001b[0m\u001b[0;34m\u001b[0m\u001b[0;34m\u001b[0m\u001b[0m\n",
      "\u001b[0;32m/usr/local/lib/python3.6/dist-packages/kaggle/__init__.py\u001b[0m in \u001b[0;36m<module>\u001b[0;34m\u001b[0m\n\u001b[1;32m     21\u001b[0m \u001b[0;34m\u001b[0m\u001b[0m\n\u001b[1;32m     22\u001b[0m \u001b[0mapi\u001b[0m \u001b[0;34m=\u001b[0m \u001b[0mKaggleApi\u001b[0m\u001b[0;34m(\u001b[0m\u001b[0mApiClient\u001b[0m\u001b[0;34m(\u001b[0m\u001b[0;34m)\u001b[0m\u001b[0;34m)\u001b[0m\u001b[0;34m\u001b[0m\u001b[0;34m\u001b[0m\u001b[0m\n\u001b[0;32m---> 23\u001b[0;31m \u001b[0mapi\u001b[0m\u001b[0;34m.\u001b[0m\u001b[0mauthenticate\u001b[0m\u001b[0;34m(\u001b[0m\u001b[0;34m)\u001b[0m\u001b[0;34m\u001b[0m\u001b[0;34m\u001b[0m\u001b[0m\n\u001b[0m",
      "\u001b[0;32m/usr/local/lib/python3.6/dist-packages/kaggle/api/kaggle_api_extended.py\u001b[0m in \u001b[0;36mauthenticate\u001b[0;34m(self)\u001b[0m\n\u001b[1;32m    144\u001b[0m                 raise IOError('Could not find {}. Make sure it\\'s located in'\n\u001b[1;32m    145\u001b[0m                               ' {}. Or use the environment method.'.format(\n\u001b[0;32m--> 146\u001b[0;31m                                   self.config_file, self.config_dir))\n\u001b[0m\u001b[1;32m    147\u001b[0m \u001b[0;34m\u001b[0m\u001b[0m\n\u001b[1;32m    148\u001b[0m         \u001b[0;31m# Step 3: load into configuration!\u001b[0m\u001b[0;34m\u001b[0m\u001b[0;34m\u001b[0m\u001b[0;34m\u001b[0m\u001b[0m\n",
      "\u001b[0;31mOSError\u001b[0m: Could not find kaggle.json. Make sure it's located in /home/ubuntu/.kaggle. Or use the environment method."
     ]
    }
   ],
   "source": [
    "import pandas as pd\n",
    "import numpy as np\n",
    "import requests\n",
    "import psycopg2\n",
    "import json\n",
    "import calendar\n",
    "import time\n",
    "import re\n",
    "import kaggle\n",
    "\n",
    "import boto3\n",
    "import base64\n",
    "from botocore.exceptions import ClientError"
   ]
  },
  {
   "cell_type": "code",
   "execution_count": 3,
   "metadata": {},
   "outputs": [],
   "source": [
    "def get_secret():\n",
    "\n",
    "    secret_name = \"CCC_DB\"\n",
    "    region_name = \"us-east-1\"\n",
    "\n",
    "    # Create a Secrets Manager client\n",
    "    session = boto3.session.Session()\n",
    "    client = session.client(\n",
    "        service_name='secretsmanager',\n",
    "        region_name=region_name\n",
    "    )\n",
    "\n",
    "    # In this sample we only handle the specific exceptions for the 'GetSecretValue' API.\n",
    "    # See https://docs.aws.amazon.com/secretsmanager/latest/apireference/API_GetSecretValue.html\n",
    "    # We rethrow the exception by default.\n",
    "\n",
    "    try:\n",
    "        get_secret_value_response = client.get_secret_value(\n",
    "            SecretId=secret_name\n",
    "        )\n",
    "    except ClientError as e:\n",
    "        if e.response['Error']['Code'] == 'DecryptionFailureException':\n",
    "            # Secrets Manager can't decrypt the protected secret text using the provided KMS key.\n",
    "            # Deal with the exception here, and/or rethrow at your discretion.\n",
    "            raise e\n",
    "        elif e.response['Error']['Code'] == 'InternalServiceErrorException':\n",
    "            # An error occurred on the server side.\n",
    "            # Deal with the exception here, and/or rethrow at your discretion.\n",
    "            raise e\n",
    "        elif e.response['Error']['Code'] == 'InvalidParameterException':\n",
    "            # You provided an invalid value for a parameter.\n",
    "            # Deal with the exception here, and/or rethrow at your discretion.\n",
    "            raise e\n",
    "        elif e.response['Error']['Code'] == 'InvalidRequestException':\n",
    "            # You provided a parameter value that is not valid for the current state of the resource.\n",
    "            # Deal with the exception here, and/or rethrow at your discretion.\n",
    "            raise e\n",
    "        elif e.response['Error']['Code'] == 'ResourceNotFoundException':\n",
    "            # We can't find the resource that you asked for.\n",
    "            # Deal with the exception here, and/or rethrow at your discretion.\n",
    "            raise e\n",
    "    else:\n",
    "        # Decrypts secret using the associated KMS CMK.\n",
    "        # Depending on whether the secret is a string or binary, one of these fields will be populated.\n",
    "        if 'SecretString' in get_secret_value_response:\n",
    "            secret = get_secret_value_response['SecretString']\n",
    "        else:\n",
    "            decoded_binary_secret = base64.b64decode(get_secret_value_response['SecretBinary'])\n",
    "            \n",
    "    return(secret)"
   ]
  },
  {
   "cell_type": "code",
   "execution_count": 4,
   "metadata": {},
   "outputs": [],
   "source": [
    "def get_key():\n",
    "\n",
    "    secret_name = \"CCC_API\"\n",
    "    region_name = \"us-east-1\"\n",
    "\n",
    "    # Create a Secrets Manager client\n",
    "    session = boto3.session.Session()\n",
    "    client = session.client(\n",
    "        service_name='secretsmanager',\n",
    "        region_name=region_name\n",
    "    )\n",
    "\n",
    "    # In this sample we only handle the specific exceptions for the 'GetSecretValue' API.\n",
    "    # See https://docs.aws.amazon.com/secretsmanager/latest/apireference/API_GetSecretValue.html\n",
    "    # We rethrow the exception by default.\n",
    "\n",
    "    try:\n",
    "        get_secret_value_response = client.get_secret_value(\n",
    "            SecretId=secret_name\n",
    "        )\n",
    "    except ClientError as e:\n",
    "        if e.response['Error']['Code'] == 'DecryptionFailureException':\n",
    "            # Secrets Manager can't decrypt the protected secret text using the provided KMS key.\n",
    "            # Deal with the exception here, and/or rethrow at your discretion.\n",
    "            raise e\n",
    "        elif e.response['Error']['Code'] == 'InternalServiceErrorException':\n",
    "            # An error occurred on the server side.\n",
    "            # Deal with the exception here, and/or rethrow at your discretion.\n",
    "            raise e\n",
    "        elif e.response['Error']['Code'] == 'InvalidParameterException':\n",
    "            # You provided an invalid value for a parameter.\n",
    "            # Deal with the exception here, and/or rethrow at your discretion.\n",
    "            raise e\n",
    "        elif e.response['Error']['Code'] == 'InvalidRequestException':\n",
    "            # You provided a parameter value that is not valid for the current state of the resource.\n",
    "            # Deal with the exception here, and/or rethrow at your discretion.\n",
    "            raise e\n",
    "        elif e.response['Error']['Code'] == 'ResourceNotFoundException':\n",
    "            # We can't find the resource that you asked for.\n",
    "            # Deal with the exception here, and/or rethrow at your discretion.\n",
    "            raise e\n",
    "    else:\n",
    "        # Decrypts secret using the associated KMS CMK.\n",
    "        # Depending on whether the secret is a string or binary, one of these fields will be populated.\n",
    "        if 'SecretString' in get_secret_value_response:\n",
    "            secret = get_secret_value_response['SecretString']\n",
    "        else:\n",
    "            decoded_binary_secret = base64.b64decode(get_secret_value_response['SecretBinary'])\n",
    "            \n",
    "    return(secret)"
   ]
  },
  {
   "cell_type": "code",
   "execution_count": 8,
   "metadata": {},
   "outputs": [],
   "source": [
    "api_key = json.loads(get_key())['CCC_API']"
   ]
  },
  {
   "cell_type": "code",
   "execution_count": 9,
   "metadata": {},
   "outputs": [
    {
     "data": {
      "text/plain": [
       "'109ce37ef6bd6f319468d5530e38feb1ae7793272768e5b280717832b7d3bcd0'"
      ]
     },
     "execution_count": 9,
     "metadata": {},
     "output_type": "execute_result"
    }
   ],
   "source": [
    "api_key"
   ]
  },
  {
   "cell_type": "code",
   "execution_count": 5,
   "metadata": {},
   "outputs": [],
   "source": [
    "secret = json.loads(get_secret())\n",
    "\n",
    "engine = psycopg2.connect(\n",
    "    database=secret[\"dbname\"],\n",
    "    user=secret[\"username\"],\n",
    "    password=secret[\"password\"],\n",
    "    host=secret[\"host\"],\n",
    "    port=secret[\"port\"]\n",
    ")"
   ]
  },
  {
   "cell_type": "code",
   "execution_count": 8,
   "metadata": {},
   "outputs": [
    {
     "name": "stdout",
     "output_type": "stream",
     "text": [
      "None\n"
     ]
    }
   ],
   "source": [
    "cur = engine.cursor()\n",
    "\n",
    "print(cur.execute(\"select * from information_schema.tables\"))"
   ]
  },
  {
   "cell_type": "code",
   "execution_count": 12,
   "metadata": {},
   "outputs": [],
   "source": [
    "ts = int(time.time())"
   ]
  },
  {
   "cell_type": "code",
   "execution_count": 13,
   "metadata": {},
   "outputs": [
    {
     "data": {
      "text/plain": [
       "1564100254"
      ]
     },
     "execution_count": 13,
     "metadata": {},
     "output_type": "execute_result"
    }
   ],
   "source": [
    "ts"
   ]
  },
  {
   "cell_type": "code",
   "execution_count": 20,
   "metadata": {},
   "outputs": [],
   "source": [
    "df = pd.DataFrame(index=pd.date_range(start='7/25/2018', end='7/25/2019'))"
   ]
  },
  {
   "cell_type": "code",
   "execution_count": 21,
   "metadata": {},
   "outputs": [
    {
     "data": {
      "text/html": [
       "<div>\n",
       "<style scoped>\n",
       "    .dataframe tbody tr th:only-of-type {\n",
       "        vertical-align: middle;\n",
       "    }\n",
       "\n",
       "    .dataframe tbody tr th {\n",
       "        vertical-align: top;\n",
       "    }\n",
       "\n",
       "    .dataframe thead th {\n",
       "        text-align: right;\n",
       "    }\n",
       "</style>\n",
       "<table border=\"1\" class=\"dataframe\">\n",
       "  <thead>\n",
       "    <tr style=\"text-align: right;\">\n",
       "      <th></th>\n",
       "    </tr>\n",
       "  </thead>\n",
       "  <tbody>\n",
       "    <tr>\n",
       "      <th>2018-07-25</th>\n",
       "    </tr>\n",
       "    <tr>\n",
       "      <th>2018-07-26</th>\n",
       "    </tr>\n",
       "    <tr>\n",
       "      <th>2018-07-27</th>\n",
       "    </tr>\n",
       "    <tr>\n",
       "      <th>2018-07-28</th>\n",
       "    </tr>\n",
       "    <tr>\n",
       "      <th>2018-07-29</th>\n",
       "    </tr>\n",
       "  </tbody>\n",
       "</table>\n",
       "</div>"
      ],
      "text/plain": [
       "Empty DataFrame\n",
       "Columns: []\n",
       "Index: [2018-07-25 00:00:00, 2018-07-26 00:00:00, 2018-07-27 00:00:00, 2018-07-28 00:00:00, 2018-07-29 00:00:00]"
      ]
     },
     "execution_count": 21,
     "metadata": {},
     "output_type": "execute_result"
    }
   ],
   "source": [
    "df.head()"
   ]
  },
  {
   "cell_type": "code",
   "execution_count": 25,
   "metadata": {},
   "outputs": [],
   "source": [
    "df.insert(loc=0,column='UnixTime',value=0)"
   ]
  },
  {
   "cell_type": "code",
   "execution_count": 26,
   "metadata": {},
   "outputs": [
    {
     "data": {
      "text/html": [
       "<div>\n",
       "<style scoped>\n",
       "    .dataframe tbody tr th:only-of-type {\n",
       "        vertical-align: middle;\n",
       "    }\n",
       "\n",
       "    .dataframe tbody tr th {\n",
       "        vertical-align: top;\n",
       "    }\n",
       "\n",
       "    .dataframe thead th {\n",
       "        text-align: right;\n",
       "    }\n",
       "</style>\n",
       "<table border=\"1\" class=\"dataframe\">\n",
       "  <thead>\n",
       "    <tr style=\"text-align: right;\">\n",
       "      <th></th>\n",
       "      <th>UnixTime</th>\n",
       "    </tr>\n",
       "  </thead>\n",
       "  <tbody>\n",
       "    <tr>\n",
       "      <th>2018-07-25</th>\n",
       "      <td>0</td>\n",
       "    </tr>\n",
       "    <tr>\n",
       "      <th>2018-07-26</th>\n",
       "      <td>0</td>\n",
       "    </tr>\n",
       "    <tr>\n",
       "      <th>2018-07-27</th>\n",
       "      <td>0</td>\n",
       "    </tr>\n",
       "    <tr>\n",
       "      <th>2018-07-28</th>\n",
       "      <td>0</td>\n",
       "    </tr>\n",
       "    <tr>\n",
       "      <th>2018-07-29</th>\n",
       "      <td>0</td>\n",
       "    </tr>\n",
       "  </tbody>\n",
       "</table>\n",
       "</div>"
      ],
      "text/plain": [
       "            UnixTime\n",
       "2018-07-25         0\n",
       "2018-07-26         0\n",
       "2018-07-27         0\n",
       "2018-07-28         0\n",
       "2018-07-29         0"
      ]
     },
     "execution_count": 26,
     "metadata": {},
     "output_type": "execute_result"
    }
   ],
   "source": [
    "df.head()"
   ]
  },
  {
   "cell_type": "code",
   "execution_count": 33,
   "metadata": {},
   "outputs": [
    {
     "data": {
      "text/plain": [
       "'2018-07-25 00:00:00'"
      ]
     },
     "execution_count": 33,
     "metadata": {},
     "output_type": "execute_result"
    }
   ],
   "source": [
    "str(df.index[0])"
   ]
  },
  {
   "cell_type": "code",
   "execution_count": 38,
   "metadata": {},
   "outputs": [],
   "source": [
    "df['UnixTime'][0] = calendar.timegm(time.strptime(str(df.index[0]), '%Y-%m-%d %H:%M:%S'))"
   ]
  },
  {
   "cell_type": "code",
   "execution_count": 42,
   "metadata": {},
   "outputs": [
    {
     "ename": "ValueError",
     "evalue": "time data \"DatetimeIndex(['2018-07-25', '2018-07-26', '2018-07-27', '2018-07-28',\\n               '2018-07-29', '2018-07-30', '2018-07-31', '2018-08-01',\\n               '2018-08-02', '2018-08-03',\\n               ...\\n               '2019-07-16', '2019-07-17', '2019-07-18', '2019-07-19',\\n               '2019-07-20', '2019-07-21', '2019-07-22', '2019-07-23',\\n               '2019-07-24', '2019-07-25'],\\n              dtype='datetime64[ns]', length=366, freq='D')\" does not match format '%Y-%m-%d %H:%M:%S'",
     "output_type": "error",
     "traceback": [
      "\u001b[0;31m---------------------------------------------------------------------------\u001b[0m",
      "\u001b[0;31mValueError\u001b[0m                                Traceback (most recent call last)",
      "\u001b[0;32m<ipython-input-42-2b2937e56165>\u001b[0m in \u001b[0;36m<module>\u001b[0;34m\u001b[0m\n\u001b[0;32m----> 1\u001b[0;31m \u001b[0mdf\u001b[0m\u001b[0;34m[\u001b[0m\u001b[0;34m'UnixTime'\u001b[0m\u001b[0;34m]\u001b[0m \u001b[0;34m=\u001b[0m \u001b[0mcalendar\u001b[0m\u001b[0;34m.\u001b[0m\u001b[0mtimegm\u001b[0m\u001b[0;34m(\u001b[0m\u001b[0mtime\u001b[0m\u001b[0;34m.\u001b[0m\u001b[0mstrptime\u001b[0m\u001b[0;34m(\u001b[0m\u001b[0mstr\u001b[0m\u001b[0;34m(\u001b[0m\u001b[0mdf\u001b[0m\u001b[0;34m.\u001b[0m\u001b[0mindex\u001b[0m\u001b[0;34m)\u001b[0m\u001b[0;34m,\u001b[0m \u001b[0;34m'%Y-%m-%d %H:%M:%S'\u001b[0m\u001b[0;34m)\u001b[0m\u001b[0;34m)\u001b[0m\u001b[0;34m\u001b[0m\u001b[0;34m\u001b[0m\u001b[0m\n\u001b[0m",
      "\u001b[0;32m/usr/lib/python3.6/_strptime.py\u001b[0m in \u001b[0;36m_strptime_time\u001b[0;34m(data_string, format)\u001b[0m\n\u001b[1;32m    557\u001b[0m     \"\"\"Return a time struct based on the input string and the\n\u001b[1;32m    558\u001b[0m     format string.\"\"\"\n\u001b[0;32m--> 559\u001b[0;31m     \u001b[0mtt\u001b[0m \u001b[0;34m=\u001b[0m \u001b[0m_strptime\u001b[0m\u001b[0;34m(\u001b[0m\u001b[0mdata_string\u001b[0m\u001b[0;34m,\u001b[0m \u001b[0mformat\u001b[0m\u001b[0;34m)\u001b[0m\u001b[0;34m[\u001b[0m\u001b[0;36m0\u001b[0m\u001b[0;34m]\u001b[0m\u001b[0;34m\u001b[0m\u001b[0;34m\u001b[0m\u001b[0m\n\u001b[0m\u001b[1;32m    560\u001b[0m     \u001b[0;32mreturn\u001b[0m \u001b[0mtime\u001b[0m\u001b[0;34m.\u001b[0m\u001b[0mstruct_time\u001b[0m\u001b[0;34m(\u001b[0m\u001b[0mtt\u001b[0m\u001b[0;34m[\u001b[0m\u001b[0;34m:\u001b[0m\u001b[0mtime\u001b[0m\u001b[0;34m.\u001b[0m\u001b[0m_STRUCT_TM_ITEMS\u001b[0m\u001b[0;34m]\u001b[0m\u001b[0;34m)\u001b[0m\u001b[0;34m\u001b[0m\u001b[0;34m\u001b[0m\u001b[0m\n\u001b[1;32m    561\u001b[0m \u001b[0;34m\u001b[0m\u001b[0m\n",
      "\u001b[0;32m/usr/lib/python3.6/_strptime.py\u001b[0m in \u001b[0;36m_strptime\u001b[0;34m(data_string, format)\u001b[0m\n\u001b[1;32m    360\u001b[0m     \u001b[0;32mif\u001b[0m \u001b[0;32mnot\u001b[0m \u001b[0mfound\u001b[0m\u001b[0;34m:\u001b[0m\u001b[0;34m\u001b[0m\u001b[0;34m\u001b[0m\u001b[0m\n\u001b[1;32m    361\u001b[0m         raise ValueError(\"time data %r does not match format %r\" %\n\u001b[0;32m--> 362\u001b[0;31m                          (data_string, format))\n\u001b[0m\u001b[1;32m    363\u001b[0m     \u001b[0;32mif\u001b[0m \u001b[0mlen\u001b[0m\u001b[0;34m(\u001b[0m\u001b[0mdata_string\u001b[0m\u001b[0;34m)\u001b[0m \u001b[0;34m!=\u001b[0m \u001b[0mfound\u001b[0m\u001b[0;34m.\u001b[0m\u001b[0mend\u001b[0m\u001b[0;34m(\u001b[0m\u001b[0;34m)\u001b[0m\u001b[0;34m:\u001b[0m\u001b[0;34m\u001b[0m\u001b[0;34m\u001b[0m\u001b[0m\n\u001b[1;32m    364\u001b[0m         raise ValueError(\"unconverted data remains: %s\" %\n",
      "\u001b[0;31mValueError\u001b[0m: time data \"DatetimeIndex(['2018-07-25', '2018-07-26', '2018-07-27', '2018-07-28',\\n               '2018-07-29', '2018-07-30', '2018-07-31', '2018-08-01',\\n               '2018-08-02', '2018-08-03',\\n               ...\\n               '2019-07-16', '2019-07-17', '2019-07-18', '2019-07-19',\\n               '2019-07-20', '2019-07-21', '2019-07-22', '2019-07-23',\\n               '2019-07-24', '2019-07-25'],\\n              dtype='datetime64[ns]', length=366, freq='D')\" does not match format '%Y-%m-%d %H:%M:%S'"
     ]
    }
   ],
   "source": [
    "df['UnixTime'] = calendar.timegm(time.strptime(str(df.index), '%Y-%m-%d %H:%M:%S'))"
   ]
  },
  {
   "cell_type": "code",
   "execution_count": 45,
   "metadata": {},
   "outputs": [],
   "source": [
    "for i in df.index:\n",
    "    df['UnixTime'][i] = calendar.timegm(time.strptime(str(i), '%Y-%m-%d %H:%M:%S'))"
   ]
  },
  {
   "cell_type": "code",
   "execution_count": 46,
   "metadata": {},
   "outputs": [
    {
     "data": {
      "text/html": [
       "<div>\n",
       "<style scoped>\n",
       "    .dataframe tbody tr th:only-of-type {\n",
       "        vertical-align: middle;\n",
       "    }\n",
       "\n",
       "    .dataframe tbody tr th {\n",
       "        vertical-align: top;\n",
       "    }\n",
       "\n",
       "    .dataframe thead th {\n",
       "        text-align: right;\n",
       "    }\n",
       "</style>\n",
       "<table border=\"1\" class=\"dataframe\">\n",
       "  <thead>\n",
       "    <tr style=\"text-align: right;\">\n",
       "      <th></th>\n",
       "      <th>UnixTime</th>\n",
       "    </tr>\n",
       "  </thead>\n",
       "  <tbody>\n",
       "    <tr>\n",
       "      <th>2018-07-25</th>\n",
       "      <td>1532476800</td>\n",
       "    </tr>\n",
       "    <tr>\n",
       "      <th>2018-07-26</th>\n",
       "      <td>1532563200</td>\n",
       "    </tr>\n",
       "    <tr>\n",
       "      <th>2018-07-27</th>\n",
       "      <td>1532649600</td>\n",
       "    </tr>\n",
       "    <tr>\n",
       "      <th>2018-07-28</th>\n",
       "      <td>1532736000</td>\n",
       "    </tr>\n",
       "    <tr>\n",
       "      <th>2018-07-29</th>\n",
       "      <td>1532822400</td>\n",
       "    </tr>\n",
       "  </tbody>\n",
       "</table>\n",
       "</div>"
      ],
      "text/plain": [
       "              UnixTime\n",
       "2018-07-25  1532476800\n",
       "2018-07-26  1532563200\n",
       "2018-07-27  1532649600\n",
       "2018-07-28  1532736000\n",
       "2018-07-29  1532822400"
      ]
     },
     "execution_count": 46,
     "metadata": {},
     "output_type": "execute_result"
    }
   ],
   "source": [
    "df.head()"
   ]
  },
  {
   "cell_type": "code",
   "execution_count": 47,
   "metadata": {},
   "outputs": [],
   "source": [
    "base_url = 'https://min-api.cryptocompare.com/data/dayAvg?fsym=BTC&tsym=USD&toTS='"
   ]
  },
  {
   "cell_type": "code",
   "execution_count": 55,
   "metadata": {},
   "outputs": [],
   "source": [
    "query_url = base_url + str(ts) + api_key"
   ]
  },
  {
   "cell_type": "code",
   "execution_count": 133,
   "metadata": {},
   "outputs": [
    {
     "data": {
      "text/plain": [
       "'https://min-api.cryptocompare.com/data/dayAvg?fsym=BTC&tsym=USD&toTS=1564012800109ce37ef6bd6f319468d5530e38feb1ae7793272768e5b280717832b7d3bcd0'"
      ]
     },
     "execution_count": 133,
     "metadata": {},
     "output_type": "execute_result"
    }
   ],
   "source": [
    "query_url"
   ]
  },
  {
   "cell_type": "code",
   "execution_count": 93,
   "metadata": {},
   "outputs": [],
   "source": [
    "btc_list = np.zeros(366)"
   ]
  },
  {
   "cell_type": "code",
   "execution_count": 98,
   "metadata": {},
   "outputs": [],
   "source": [
    "btc_list[0] = float(4.5)"
   ]
  },
  {
   "cell_type": "code",
   "execution_count": 115,
   "metadata": {},
   "outputs": [
    {
     "name": "stdout",
     "output_type": "stream",
     "text": [
      "9725.17   1532476800   2018-07-25 00:00:00\n",
      "9725.17   1532563200   2018-07-26 00:00:00\n",
      "9725.17   1532649600   2018-07-27 00:00:00\n",
      "9725.17   1532736000   2018-07-28 00:00:00\n",
      "9725.17   1532822400   2018-07-29 00:00:00\n",
      "9725.17   1532908800   2018-07-30 00:00:00\n",
      "9725.17   1532995200   2018-07-31 00:00:00\n",
      "9725.17   1533081600   2018-08-01 00:00:00\n",
      "9725.17   1533168000   2018-08-02 00:00:00\n",
      "9725.17   1533254400   2018-08-03 00:00:00\n",
      "9725.17   1533340800   2018-08-04 00:00:00\n",
      "9725.17   1533427200   2018-08-05 00:00:00\n",
      "9725.17   1533513600   2018-08-06 00:00:00\n",
      "9725.17   1533600000   2018-08-07 00:00:00\n",
      "9725.17   1533686400   2018-08-08 00:00:00\n",
      "9725.17   1533772800   2018-08-09 00:00:00\n",
      "9725.17   1533859200   2018-08-10 00:00:00\n",
      "9726.95   1533945600   2018-08-11 00:00:00\n",
      "9725.17   1534032000   2018-08-12 00:00:00\n",
      "9725.17   1534118400   2018-08-13 00:00:00\n",
      "9725.17   1534204800   2018-08-14 00:00:00\n",
      "9725.17   1534291200   2018-08-15 00:00:00\n",
      "9725.17   1534377600   2018-08-16 00:00:00\n",
      "9726.95   1534464000   2018-08-17 00:00:00\n",
      "9725.17   1534550400   2018-08-18 00:00:00\n",
      "9725.17   1534636800   2018-08-19 00:00:00\n",
      "9725.17   1534723200   2018-08-20 00:00:00\n",
      "9725.17   1534809600   2018-08-21 00:00:00\n",
      "9725.17   1534896000   2018-08-22 00:00:00\n",
      "9725.17   1534982400   2018-08-23 00:00:00\n",
      "9725.17   1535068800   2018-08-24 00:00:00\n",
      "9725.17   1535155200   2018-08-25 00:00:00\n",
      "9725.17   1535241600   2018-08-26 00:00:00\n",
      "9725.17   1535328000   2018-08-27 00:00:00\n",
      "9725.17   1535414400   2018-08-28 00:00:00\n",
      "9725.17   1535500800   2018-08-29 00:00:00\n",
      "9725.17   1535587200   2018-08-30 00:00:00\n",
      "9725.17   1535673600   2018-08-31 00:00:00\n",
      "9725.17   1535760000   2018-09-01 00:00:00\n",
      "9726.95   1535846400   2018-09-02 00:00:00\n",
      "9725.17   1535932800   2018-09-03 00:00:00\n",
      "9725.17   1536019200   2018-09-04 00:00:00\n",
      "9725.17   1536105600   2018-09-05 00:00:00\n",
      "9725.17   1536192000   2018-09-06 00:00:00\n",
      "9725.17   1536278400   2018-09-07 00:00:00\n",
      "9726.95   1536364800   2018-09-08 00:00:00\n",
      "9725.17   1536451200   2018-09-09 00:00:00\n",
      "9725.17   1536537600   2018-09-10 00:00:00\n",
      "9725.17   1536624000   2018-09-11 00:00:00\n",
      "9725.17   1536710400   2018-09-12 00:00:00\n",
      "9725.17   1536796800   2018-09-13 00:00:00\n",
      "9725.17   1536883200   2018-09-14 00:00:00\n",
      "9725.17   1536969600   2018-09-15 00:00:00\n",
      "9725.17   1537056000   2018-09-16 00:00:00\n",
      "9725.17   1537142400   2018-09-17 00:00:00\n",
      "9725.17   1537228800   2018-09-18 00:00:00\n",
      "9725.17   1537315200   2018-09-19 00:00:00\n",
      "9725.17   1537401600   2018-09-20 00:00:00\n",
      "9725.17   1537488000   2018-09-21 00:00:00\n",
      "9725.17   1537574400   2018-09-22 00:00:00\n",
      "9725.17   1537660800   2018-09-23 00:00:00\n",
      "9725.17   1537747200   2018-09-24 00:00:00\n",
      "9725.17   1537833600   2018-09-25 00:00:00\n",
      "9725.17   1537920000   2018-09-26 00:00:00\n",
      "9726.95   1538006400   2018-09-27 00:00:00\n",
      "9725.17   1538092800   2018-09-28 00:00:00\n",
      "9725.17   1538179200   2018-09-29 00:00:00\n",
      "9725.17   1538265600   2018-09-30 00:00:00\n",
      "9725.17   1538352000   2018-10-01 00:00:00\n",
      "9725.17   1538438400   2018-10-02 00:00:00\n",
      "9726.95   1538524800   2018-10-03 00:00:00\n",
      "9725.17   1538611200   2018-10-04 00:00:00\n",
      "9725.17   1538697600   2018-10-05 00:00:00\n",
      "9725.17   1538784000   2018-10-06 00:00:00\n",
      "9725.17   1538870400   2018-10-07 00:00:00\n",
      "9725.17   1538956800   2018-10-08 00:00:00\n",
      "9725.17   1539043200   2018-10-09 00:00:00\n",
      "9725.17   1539129600   2018-10-10 00:00:00\n",
      "9725.17   1539216000   2018-10-11 00:00:00\n",
      "9725.17   1539302400   2018-10-12 00:00:00\n",
      "9725.17   1539388800   2018-10-13 00:00:00\n",
      "9725.17   1539475200   2018-10-14 00:00:00\n",
      "9725.17   1539561600   2018-10-15 00:00:00\n",
      "9725.17   1539648000   2018-10-16 00:00:00\n",
      "9725.17   1539734400   2018-10-17 00:00:00\n",
      "9725.17   1539820800   2018-10-18 00:00:00\n",
      "9725.17   1539907200   2018-10-19 00:00:00\n",
      "9725.17   1539993600   2018-10-20 00:00:00\n",
      "9725.17   1540080000   2018-10-21 00:00:00\n",
      "9726.95   1540166400   2018-10-22 00:00:00\n",
      "9725.17   1540252800   2018-10-23 00:00:00\n",
      "9725.17   1540339200   2018-10-24 00:00:00\n",
      "9725.17   1540425600   2018-10-25 00:00:00\n",
      "9725.17   1540512000   2018-10-26 00:00:00\n",
      "9725.17   1540598400   2018-10-27 00:00:00\n",
      "9726.95   1540684800   2018-10-28 00:00:00\n",
      "9725.17   1540771200   2018-10-29 00:00:00\n",
      "9725.17   1540857600   2018-10-30 00:00:00\n",
      "9725.17   1540944000   2018-10-31 00:00:00\n",
      "9725.17   1541030400   2018-11-01 00:00:00\n",
      "9725.17   1541116800   2018-11-02 00:00:00\n",
      "9725.17   1541203200   2018-11-03 00:00:00\n",
      "9725.17   1541289600   2018-11-04 00:00:00\n",
      "9725.17   1541376000   2018-11-05 00:00:00\n",
      "9725.17   1541462400   2018-11-06 00:00:00\n",
      "9725.17   1541548800   2018-11-07 00:00:00\n",
      "9725.17   1541635200   2018-11-08 00:00:00\n",
      "9725.17   1541721600   2018-11-09 00:00:00\n",
      "9725.17   1541808000   2018-11-10 00:00:00\n",
      "9725.17   1541894400   2018-11-11 00:00:00\n",
      "9725.17   1541980800   2018-11-12 00:00:00\n",
      "9725.17   1542067200   2018-11-13 00:00:00\n",
      "9725.17   1542153600   2018-11-14 00:00:00\n",
      "9725.17   1542240000   2018-11-15 00:00:00\n",
      "9726.95   1542326400   2018-11-16 00:00:00\n",
      "9725.17   1542412800   2018-11-17 00:00:00\n",
      "9725.17   1542499200   2018-11-18 00:00:00\n",
      "9725.17   1542585600   2018-11-19 00:00:00\n",
      "9725.17   1542672000   2018-11-20 00:00:00\n",
      "9725.17   1542758400   2018-11-21 00:00:00\n",
      "9726.95   1542844800   2018-11-22 00:00:00\n",
      "9725.17   1542931200   2018-11-23 00:00:00\n",
      "9725.17   1543017600   2018-11-24 00:00:00\n",
      "9725.17   1543104000   2018-11-25 00:00:00\n",
      "9725.17   1543190400   2018-11-26 00:00:00\n",
      "9725.17   1543276800   2018-11-27 00:00:00\n",
      "9725.17   1543363200   2018-11-28 00:00:00\n",
      "9725.17   1543449600   2018-11-29 00:00:00\n",
      "9725.17   1543536000   2018-11-30 00:00:00\n",
      "9725.17   1543622400   2018-12-01 00:00:00\n",
      "9725.17   1543708800   2018-12-02 00:00:00\n",
      "9725.17   1543795200   2018-12-03 00:00:00\n",
      "9725.17   1543881600   2018-12-04 00:00:00\n",
      "9725.17   1543968000   2018-12-05 00:00:00\n",
      "9725.17   1544054400   2018-12-06 00:00:00\n",
      "9725.17   1544140800   2018-12-07 00:00:00\n",
      "9725.17   1544227200   2018-12-08 00:00:00\n",
      "9725.17   1544313600   2018-12-09 00:00:00\n",
      "9725.17   1544400000   2018-12-10 00:00:00\n",
      "9726.95   1544486400   2018-12-11 00:00:00\n",
      "9725.17   1544572800   2018-12-12 00:00:00\n",
      "9725.17   1544659200   2018-12-13 00:00:00\n",
      "9725.17   1544745600   2018-12-14 00:00:00\n",
      "9725.17   1544832000   2018-12-15 00:00:00\n",
      "9725.17   1544918400   2018-12-16 00:00:00\n",
      "9726.95   1545004800   2018-12-17 00:00:00\n",
      "9725.17   1545091200   2018-12-18 00:00:00\n",
      "9725.17   1545177600   2018-12-19 00:00:00\n",
      "9725.17   1545264000   2018-12-20 00:00:00\n",
      "9725.17   1545350400   2018-12-21 00:00:00\n",
      "9725.17   1545436800   2018-12-22 00:00:00\n",
      "9725.17   1545523200   2018-12-23 00:00:00\n",
      "9725.17   1545609600   2018-12-24 00:00:00\n",
      "9725.17   1545696000   2018-12-25 00:00:00\n",
      "9725.17   1545782400   2018-12-26 00:00:00\n",
      "9725.17   1545868800   2018-12-27 00:00:00\n",
      "9725.17   1545955200   2018-12-28 00:00:00\n",
      "9725.17   1546041600   2018-12-29 00:00:00\n",
      "9725.17   1546128000   2018-12-30 00:00:00\n",
      "9725.17   1546214400   2018-12-31 00:00:00\n",
      "9725.17   1546300800   2019-01-01 00:00:00\n",
      "9725.17   1546387200   2019-01-02 00:00:00\n",
      "9725.17   1546473600   2019-01-03 00:00:00\n",
      "9725.17   1546560000   2019-01-04 00:00:00\n",
      "9726.95   1546646400   2019-01-05 00:00:00\n",
      "9725.17   1546732800   2019-01-06 00:00:00\n",
      "9725.17   1546819200   2019-01-07 00:00:00\n",
      "9726.95   1546905600   2019-01-08 00:00:00\n",
      "9725.17   1546992000   2019-01-09 00:00:00\n",
      "9725.17   1547078400   2019-01-10 00:00:00\n",
      "9725.17   1547164800   2019-01-11 00:00:00\n",
      "9725.17   1547251200   2019-01-12 00:00:00\n",
      "9725.17   1547337600   2019-01-13 00:00:00\n",
      "9725.17   1547424000   2019-01-14 00:00:00\n",
      "9725.17   1547510400   2019-01-15 00:00:00\n",
      "9725.17   1547596800   2019-01-16 00:00:00\n",
      "9725.17   1547683200   2019-01-17 00:00:00\n",
      "9725.17   1547769600   2019-01-18 00:00:00\n",
      "9725.17   1547856000   2019-01-19 00:00:00\n",
      "9725.17   1547942400   2019-01-20 00:00:00\n",
      "9725.17   1548028800   2019-01-21 00:00:00\n",
      "9725.17   1548115200   2019-01-22 00:00:00\n",
      "9725.17   1548201600   2019-01-23 00:00:00\n",
      "9725.17   1548288000   2019-01-24 00:00:00\n",
      "9725.17   1548374400   2019-01-25 00:00:00\n",
      "9725.17   1548460800   2019-01-26 00:00:00\n",
      "9726.95   1548547200   2019-01-27 00:00:00\n",
      "9725.17   1548633600   2019-01-28 00:00:00\n",
      "9725.17   1548720000   2019-01-29 00:00:00\n",
      "9725.17   1548806400   2019-01-30 00:00:00\n",
      "9725.17   1548892800   2019-01-31 00:00:00\n",
      "9725.17   1548979200   2019-02-01 00:00:00\n",
      "9726.95   1549065600   2019-02-02 00:00:00\n",
      "9725.17   1549152000   2019-02-03 00:00:00\n",
      "9725.17   1549238400   2019-02-04 00:00:00\n",
      "9725.17   1549324800   2019-02-05 00:00:00\n",
      "9725.17   1549411200   2019-02-06 00:00:00\n",
      "9725.17   1549497600   2019-02-07 00:00:00\n",
      "9725.17   1549584000   2019-02-08 00:00:00\n",
      "9725.17   1549670400   2019-02-09 00:00:00\n",
      "9725.17   1549756800   2019-02-10 00:00:00\n",
      "9725.17   1549843200   2019-02-11 00:00:00\n",
      "9725.17   1549929600   2019-02-12 00:00:00\n",
      "9725.17   1550016000   2019-02-13 00:00:00\n",
      "9725.17   1550102400   2019-02-14 00:00:00\n",
      "9725.17   1550188800   2019-02-15 00:00:00\n",
      "9725.17   1550275200   2019-02-16 00:00:00\n",
      "9725.17   1550361600   2019-02-17 00:00:00\n",
      "9725.17   1550448000   2019-02-18 00:00:00\n",
      "9725.17   1550534400   2019-02-19 00:00:00\n",
      "9725.17   1550620800   2019-02-20 00:00:00\n",
      "9726.95   1550707200   2019-02-21 00:00:00\n",
      "9725.17   1550793600   2019-02-22 00:00:00\n",
      "9725.17   1550880000   2019-02-23 00:00:00\n",
      "9725.17   1550966400   2019-02-24 00:00:00\n",
      "9725.17   1551052800   2019-02-25 00:00:00\n",
      "9725.17   1551139200   2019-02-26 00:00:00\n",
      "9726.95   1551225600   2019-02-27 00:00:00\n",
      "9725.17   1551312000   2019-02-28 00:00:00\n",
      "9725.17   1551398400   2019-03-01 00:00:00\n",
      "9725.17   1551484800   2019-03-02 00:00:00\n",
      "9725.17   1551571200   2019-03-03 00:00:00\n",
      "9725.17   1551657600   2019-03-04 00:00:00\n",
      "9725.17   1551744000   2019-03-05 00:00:00\n",
      "9725.17   1551830400   2019-03-06 00:00:00\n",
      "9725.17   1551916800   2019-03-07 00:00:00\n",
      "9725.17   1552003200   2019-03-08 00:00:00\n",
      "9725.17   1552089600   2019-03-09 00:00:00\n",
      "9725.17   1552176000   2019-03-10 00:00:00\n",
      "9725.17   1552262400   2019-03-11 00:00:00\n",
      "9725.17   1552348800   2019-03-12 00:00:00\n",
      "9725.17   1552435200   2019-03-13 00:00:00\n",
      "9725.17   1552521600   2019-03-14 00:00:00\n",
      "9725.17   1552608000   2019-03-15 00:00:00\n",
      "9725.17   1552694400   2019-03-16 00:00:00\n",
      "9725.17   1552780800   2019-03-17 00:00:00\n",
      "9726.95   1552867200   2019-03-18 00:00:00\n",
      "9725.17   1552953600   2019-03-19 00:00:00\n",
      "9725.17   1553040000   2019-03-20 00:00:00\n",
      "9725.17   1553126400   2019-03-21 00:00:00\n",
      "9725.17   1553212800   2019-03-22 00:00:00\n",
      "9725.17   1553299200   2019-03-23 00:00:00\n",
      "9726.95   1553385600   2019-03-24 00:00:00\n",
      "9725.17   1553472000   2019-03-25 00:00:00\n",
      "9725.17   1553558400   2019-03-26 00:00:00\n",
      "9725.17   1553644800   2019-03-27 00:00:00\n",
      "9725.17   1553731200   2019-03-28 00:00:00\n",
      "9725.17   1553817600   2019-03-29 00:00:00\n",
      "9725.17   1553904000   2019-03-30 00:00:00\n",
      "9725.17   1553990400   2019-03-31 00:00:00\n",
      "9725.17   1554076800   2019-04-01 00:00:00\n",
      "9725.17   1554163200   2019-04-02 00:00:00\n",
      "9725.17   1554249600   2019-04-03 00:00:00\n",
      "9725.17   1554336000   2019-04-04 00:00:00\n",
      "9725.17   1554422400   2019-04-05 00:00:00\n",
      "9725.17   1554508800   2019-04-06 00:00:00\n",
      "9725.17   1554595200   2019-04-07 00:00:00\n",
      "9725.17   1554681600   2019-04-08 00:00:00\n",
      "9725.17   1554768000   2019-04-09 00:00:00\n",
      "9726.95   1554854400   2019-04-10 00:00:00\n",
      "9725.17   1554940800   2019-04-11 00:00:00\n",
      "9725.17   1555027200   2019-04-12 00:00:00\n",
      "9725.17   1555113600   2019-04-13 00:00:00\n",
      "9725.17   1555200000   2019-04-14 00:00:00\n",
      "9725.17   1555286400   2019-04-15 00:00:00\n",
      "9726.95   1555372800   2019-04-16 00:00:00\n",
      "9725.17   1555459200   2019-04-17 00:00:00\n",
      "9725.17   1555545600   2019-04-18 00:00:00\n",
      "9725.17   1555632000   2019-04-19 00:00:00\n",
      "9725.17   1555718400   2019-04-20 00:00:00\n",
      "9725.17   1555804800   2019-04-21 00:00:00\n",
      "9725.17   1555891200   2019-04-22 00:00:00\n",
      "9725.17   1555977600   2019-04-23 00:00:00\n",
      "9725.17   1556064000   2019-04-24 00:00:00\n",
      "9725.17   1556150400   2019-04-25 00:00:00\n",
      "9725.17   1556236800   2019-04-26 00:00:00\n",
      "9725.17   1556323200   2019-04-27 00:00:00\n",
      "9725.17   1556409600   2019-04-28 00:00:00\n",
      "9725.17   1556496000   2019-04-29 00:00:00\n",
      "9725.17   1556582400   2019-04-30 00:00:00\n",
      "9725.17   1556668800   2019-05-01 00:00:00\n",
      "9725.17   1556755200   2019-05-02 00:00:00\n",
      "9725.17   1556841600   2019-05-03 00:00:00\n",
      "9725.17   1556928000   2019-05-04 00:00:00\n",
      "9726.95   1557014400   2019-05-05 00:00:00\n",
      "9725.17   1557100800   2019-05-06 00:00:00\n",
      "9725.17   1557187200   2019-05-07 00:00:00\n",
      "9725.17   1557273600   2019-05-08 00:00:00\n",
      "9725.17   1557360000   2019-05-09 00:00:00\n",
      "9725.17   1557446400   2019-05-10 00:00:00\n",
      "9726.95   1557532800   2019-05-11 00:00:00\n",
      "9725.17   1557619200   2019-05-12 00:00:00\n",
      "9725.17   1557705600   2019-05-13 00:00:00\n",
      "9725.17   1557792000   2019-05-14 00:00:00\n",
      "9725.17   1557878400   2019-05-15 00:00:00\n",
      "9725.17   1557964800   2019-05-16 00:00:00\n",
      "9725.17   1558051200   2019-05-17 00:00:00\n",
      "9725.17   1558137600   2019-05-18 00:00:00\n",
      "9725.17   1558224000   2019-05-19 00:00:00\n",
      "9725.17   1558310400   2019-05-20 00:00:00\n",
      "9725.17   1558396800   2019-05-21 00:00:00\n",
      "9725.17   1558483200   2019-05-22 00:00:00\n",
      "9725.17   1558569600   2019-05-23 00:00:00\n",
      "9725.17   1558656000   2019-05-24 00:00:00\n",
      "9725.17   1558742400   2019-05-25 00:00:00\n",
      "9725.17   1558828800   2019-05-26 00:00:00\n",
      "9726.95   1558915200   2019-05-27 00:00:00\n",
      "9725.17   1559001600   2019-05-28 00:00:00\n",
      "9725.17   1559088000   2019-05-29 00:00:00\n",
      "9725.17   1559174400   2019-05-30 00:00:00\n",
      "9725.17   1559260800   2019-05-31 00:00:00\n",
      "9725.17   1559347200   2019-06-01 00:00:00\n",
      "9726.95   1559433600   2019-06-02 00:00:00\n",
      "9725.17   1559520000   2019-06-03 00:00:00\n",
      "9725.17   1559606400   2019-06-04 00:00:00\n",
      "9725.17   1559692800   2019-06-05 00:00:00\n",
      "9725.17   1559779200   2019-06-06 00:00:00\n",
      "9725.17   1559865600   2019-06-07 00:00:00\n",
      "9725.17   1559952000   2019-06-08 00:00:00\n",
      "9725.17   1560038400   2019-06-09 00:00:00\n",
      "9725.17   1560124800   2019-06-10 00:00:00\n",
      "9725.17   1560211200   2019-06-11 00:00:00\n",
      "9725.17   1560297600   2019-06-12 00:00:00\n",
      "9725.17   1560384000   2019-06-13 00:00:00\n",
      "9725.17   1560470400   2019-06-14 00:00:00\n",
      "9725.17   1560556800   2019-06-15 00:00:00\n",
      "9725.17   1560643200   2019-06-16 00:00:00\n",
      "9725.17   1560729600   2019-06-17 00:00:00\n",
      "9725.17   1560816000   2019-06-18 00:00:00\n",
      "9725.17   1560902400   2019-06-19 00:00:00\n",
      "9725.17   1560988800   2019-06-20 00:00:00\n",
      "9726.95   1561075200   2019-06-21 00:00:00\n",
      "9725.17   1561161600   2019-06-22 00:00:00\n",
      "9725.17   1561248000   2019-06-23 00:00:00\n",
      "9725.17   1561334400   2019-06-24 00:00:00\n",
      "9725.17   1561420800   2019-06-25 00:00:00\n",
      "9725.17   1561507200   2019-06-26 00:00:00\n",
      "9726.95   1561593600   2019-06-27 00:00:00\n",
      "9725.17   1561680000   2019-06-28 00:00:00\n",
      "9725.17   1561766400   2019-06-29 00:00:00\n",
      "9725.17   1561852800   2019-06-30 00:00:00\n",
      "9725.17   1561939200   2019-07-01 00:00:00\n",
      "9725.17   1562025600   2019-07-02 00:00:00\n",
      "9725.17   1562112000   2019-07-03 00:00:00\n",
      "9725.17   1562198400   2019-07-04 00:00:00\n",
      "9725.17   1562284800   2019-07-05 00:00:00\n",
      "9725.17   1562371200   2019-07-06 00:00:00\n",
      "9725.17   1562457600   2019-07-07 00:00:00\n",
      "9725.17   1562544000   2019-07-08 00:00:00\n",
      "9725.17   1562630400   2019-07-09 00:00:00\n",
      "9725.17   1562716800   2019-07-10 00:00:00\n",
      "9725.17   1562803200   2019-07-11 00:00:00\n",
      "9725.17   1562889600   2019-07-12 00:00:00\n",
      "9725.17   1562976000   2019-07-13 00:00:00\n",
      "9725.17   1563062400   2019-07-14 00:00:00\n",
      "9725.17   1563148800   2019-07-15 00:00:00\n",
      "9726.95   1563235200   2019-07-16 00:00:00\n",
      "9725.17   1563321600   2019-07-17 00:00:00\n",
      "9725.17   1563408000   2019-07-18 00:00:00\n",
      "9725.17   1563494400   2019-07-19 00:00:00\n",
      "9725.17   1563580800   2019-07-20 00:00:00\n",
      "9725.17   1563667200   2019-07-21 00:00:00\n",
      "9726.95   1563753600   2019-07-22 00:00:00\n",
      "9725.17   1563840000   2019-07-23 00:00:00\n",
      "9725.17   1563926400   2019-07-24 00:00:00\n",
      "9725.17   1564012800   2019-07-25 00:00:00\n"
     ]
    }
   ],
   "source": [
    "j = 0\n",
    "for i in df['UnixTime']:\n",
    "    query_url = base_url + str(i) + api_key\n",
    "    resp = requests.get(query_url)\n",
    "    bystr = str(resp.content)\n",
    "    price = re.search(r'USD\":(.+?),', bystr).group(1)\n",
    "    print(price + \"   \" + str(i) + \"   \" + str(df.index[j]))\n",
    "    btc_list[j] = float(price)\n",
    "    j = j+1\n",
    "    "
   ]
  },
  {
   "cell_type": "code",
   "execution_count": 56,
   "metadata": {},
   "outputs": [],
   "source": [
    "resp = requests.get(query_url)"
   ]
  },
  {
   "cell_type": "code",
   "execution_count": 57,
   "metadata": {},
   "outputs": [
    {
     "data": {
      "text/plain": [
       "<Response [200]>"
      ]
     },
     "execution_count": 57,
     "metadata": {},
     "output_type": "execute_result"
    }
   ],
   "source": [
    "resp"
   ]
  },
  {
   "cell_type": "code",
   "execution_count": 59,
   "metadata": {},
   "outputs": [
    {
     "data": {
      "text/plain": [
       "b'{\"USD\":9728.05,\"ConversionType\":{\"type\":\"direct\",\"conversionSymbol\":\"\"}}'"
      ]
     },
     "execution_count": 59,
     "metadata": {},
     "output_type": "execute_result"
    }
   ],
   "source": [
    "resp.content"
   ]
  },
  {
   "cell_type": "code",
   "execution_count": 74,
   "metadata": {},
   "outputs": [],
   "source": [
    "bystr = str(resp.content)"
   ]
  },
  {
   "cell_type": "code",
   "execution_count": 81,
   "metadata": {},
   "outputs": [
    {
     "data": {
      "text/plain": [
       "'9728.05'"
      ]
     },
     "execution_count": 81,
     "metadata": {},
     "output_type": "execute_result"
    }
   ],
   "source": [
    "re.search(r'USD\":(.+?),', bystr).group(1)"
   ]
  },
  {
   "cell_type": "code",
   "execution_count": 134,
   "metadata": {},
   "outputs": [
    {
     "name": "stdout",
     "output_type": "stream",
     "text": [
      "https://min-api.cryptocompare.com/data/daily/market/close?date=2019-07-21&api_key=109ce37ef6bd6f319468d5530e38feb1ae7793272768e5b280717832b7d3bcd0\n"
     ]
    }
   ],
   "source": [
    "url2 = 'https://min-api.cryptocompare.com/data/daily/market/close?date=2019-07-21&api_key='\n",
    "print(url2)\n",
    "resp2 = requests.get(url2)"
   ]
  },
  {
   "cell_type": "code",
   "execution_count": 135,
   "metadata": {},
   "outputs": [
    {
     "data": {
      "text/plain": [
       "b'{\"Response\":\"Error\",\"Message\":\"Not authorized\",\"HasWarning\":false,\"Type\":53,\"RateLimit\":{},\"Data\":{},\"Cooldown\":0}'"
      ]
     },
     "execution_count": 135,
     "metadata": {},
     "output_type": "execute_result"
    }
   ],
   "source": [
    "resp2.content"
   ]
  },
  {
   "cell_type": "code",
   "execution_count": 136,
   "metadata": {},
   "outputs": [
    {
     "ename": "AttributeError",
     "evalue": "'bytes' object has no attribute 'data'",
     "output_type": "error",
     "traceback": [
      "\u001b[0;31m---------------------------------------------------------------------------\u001b[0m",
      "\u001b[0;31mAttributeError\u001b[0m                            Traceback (most recent call last)",
      "\u001b[0;32m<ipython-input-136-9c266c89511c>\u001b[0m in \u001b[0;36m<module>\u001b[0;34m\u001b[0m\n\u001b[0;32m----> 1\u001b[0;31m \u001b[0mresp2\u001b[0m\u001b[0;34m.\u001b[0m\u001b[0mcontent\u001b[0m\u001b[0;34m.\u001b[0m\u001b[0mdata\u001b[0m\u001b[0;34m\u001b[0m\u001b[0;34m\u001b[0m\u001b[0m\n\u001b[0m",
      "\u001b[0;31mAttributeError\u001b[0m: 'bytes' object has no attribute 'data'"
     ]
    }
   ],
   "source": [
    "resp2.content.data"
   ]
  },
  {
   "cell_type": "code",
   "execution_count": 142,
   "metadata": {
    "scrolled": true
   },
   "outputs": [
    {
     "ename": "SyntaxError",
     "evalue": "invalid syntax (<ipython-input-142-e2afd635b6af>, line 1)",
     "output_type": "error",
     "traceback": [
      "\u001b[0;36m  File \u001b[0;32m\"<ipython-input-142-e2afd635b6af>\"\u001b[0;36m, line \u001b[0;32m1\u001b[0m\n\u001b[0;31m    kaggle datasets download -d philmohun/cryptocurrency-financial-data\u001b[0m\n\u001b[0m                  ^\u001b[0m\n\u001b[0;31mSyntaxError\u001b[0m\u001b[0;31m:\u001b[0m invalid syntax\n"
     ]
    }
   ],
   "source": [
    "kaggle datasets download -d philmohun/cryptocurrency-financial-data"
   ]
  },
  {
   "cell_type": "code",
   "execution_count": null,
   "metadata": {},
   "outputs": [],
   "source": []
  }
 ],
 "metadata": {
  "kernelspec": {
   "display_name": "Python 3",
   "language": "python",
   "name": "python3"
  },
  "language_info": {
   "codemirror_mode": {
    "name": "ipython",
    "version": 3
   },
   "file_extension": ".py",
   "mimetype": "text/x-python",
   "name": "python",
   "nbconvert_exporter": "python",
   "pygments_lexer": "ipython3",
   "version": "3.6.8"
  }
 },
 "nbformat": 4,
 "nbformat_minor": 2
}
