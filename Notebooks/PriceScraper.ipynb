{
 "cells": [
  {
   "cell_type": "code",
   "execution_count": 2,
   "metadata": {},
   "outputs": [],
   "source": [
    "# Import Splinter and BeautifulSoup\n",
    "from splinter import Browser\n",
    "from bs4 import BeautifulSoup\n",
    "from dateutil.parser import parse\n",
    "from datetime import datetime, timedelta\n",
    "import csv"
   ]
  },
  {
   "cell_type": "code",
   "execution_count": 4,
   "metadata": {},
   "outputs": [
    {
     "data": {
      "text/plain": [
       "'20190821'"
      ]
     },
     "execution_count": 4,
     "metadata": {},
     "output_type": "execute_result"
    }
   ],
   "source": [
    "(datetime.today() - timedelta(days=2)).date().strftime(\"%Y%m%d\")"
   ]
  },
  {
   "cell_type": "code",
   "execution_count": 3,
   "metadata": {},
   "outputs": [
    {
     "name": "stdout",
     "output_type": "stream",
     "text": [
      "/usr/local/bin/chromedriver\n"
     ]
    }
   ],
   "source": [
    "!which chromedriver"
   ]
  },
  {
   "cell_type": "code",
   "execution_count": 5,
   "metadata": {},
   "outputs": [],
   "source": [
    "def get_price(currency):\n",
    "\n",
    "    i_date = datetime.today() - timedelta(days=2)\n",
    "\n",
    "    executable_path = {'executable_path': '/usr/local/bin/chromedriver'}\n",
    "    browser = Browser('chrome', **executable_path)\n",
    "\n",
    "    str_date1 = i_date.date().strftime(\"%Y%m%d\")\n",
    "    str_date2 = datetime.today().date().strftime(\"%Y%m%d\")\n",
    "    # Visit the site\n",
    "    base_url = 'https://coinmarketcap.com/currencies/'\n",
    "    url = base_url + currency + '/historical-data/?start=' + str_date1 + '&end=' + str_date2\n",
    "    print(url)\n",
    "\n",
    "    browser.visit(url)\n",
    "\n",
    "    html = browser.html\n",
    "    soup = BeautifulSoup(html, 'html.parser')\n",
    "    resp = []\n",
    "\n",
    "    for x in soup.select('table tr.text-right'):\n",
    "        date = x.select_one('table td.text-left').text\n",
    "        data = x.select('table td[data-format-value]')\n",
    "        p_open = data[0]['data-format-value']\n",
    "        p_high = data[1]['data-format-value']\n",
    "        p_low = data[2]['data-format-value']\n",
    "        p_close = data[3]['data-format-value']\n",
    "        volume = data[4]['data-format-value']\n",
    "        m_cap = data[5]['data-format-value']\n",
    "        d_dict = {'Currency': currency, 'Date': date, 'Open': p_open, 'High': p_high, 'Low': p_low, 'Close': p_close, 'Volume': volume, 'Market Cap': m_cap}\n",
    "        print(d_dict)\n",
    "        resp.append(d_dict)\n",
    "\n",
    "    browser.quit()\n",
    "    return resp"
   ]
  },
  {
   "cell_type": "code",
   "execution_count": 6,
   "metadata": {},
   "outputs": [],
   "source": [
    "monitored_currencies = ['bitcoin','litecoin','ripple','stellar','tether','ethereum','eos','bitcoin-cash','binance-coin','cardano']"
   ]
  },
  {
   "cell_type": "code",
   "execution_count": 7,
   "metadata": {},
   "outputs": [
    {
     "name": "stdout",
     "output_type": "stream",
     "text": [
      "https://coinmarketcap.com/currencies/bitcoin/historical-data/?start=20190821&end=20190823\n",
      "{'Currency': 'bitcoin', 'Date': 'Aug 23, 2019', 'Open': '10136.3095336', 'High': '10442.4435166', 'Low': '10078.1927261', 'Close': '10407.965329', 'Volume': '15627023886.2', 'Market Cap': '1.86231409722e+11'}\n",
      "{'Currency': 'bitcoin', 'Date': 'Aug 22, 2019', 'Open': '10142.52143', 'High': '10232.9960286', 'Low': '9831.46262049', 'Close': '10131.0561021', 'Volume': '17097508856.2', 'Market Cap': '1.81257125783e+11'}\n",
      "{'Currency': 'bitcoin', 'Date': 'Aug 21, 2019', 'Open': '10764.5727493', 'High': '10798.7297949', 'Low': '9962.7216442', 'Close': '10138.049355', 'Volume': '19473084767.8', 'Market Cap': '1.81364502142e+11'}\n",
      "{'Currency': 'bitcoin', 'Date': 'Aug 23, 2019', 'Open': '10136.3095336', 'High': '10442.4435166', 'Low': '10078.1927261', 'Close': '10407.965329', 'Volume': '15627023886.2', 'Market Cap': '1.86231409722e+11'}\n",
      "{'Currency': 'bitcoin', 'Date': 'Aug 22, 2019', 'Open': '10142.52143', 'High': '10232.9960286', 'Low': '9831.46262049', 'Close': '10131.0561021', 'Volume': '17097508856.2', 'Market Cap': '1.81257125783e+11'}\n",
      "{'Currency': 'bitcoin', 'Date': 'Aug 21, 2019', 'Open': '10764.5727493', 'High': '10798.7297949', 'Low': '9962.7216442', 'Close': '10138.049355', 'Volume': '19473084767.8', 'Market Cap': '1.81364502142e+11'}\n",
      "https://coinmarketcap.com/currencies/litecoin/historical-data/?start=20190821&end=20190823\n",
      "{'Currency': 'litecoin', 'Date': 'Aug 23, 2019', 'Open': '73.5773281737', 'High': '75.692844921', 'Low': '72.8689594738', 'Close': '75.4028134995', 'Volume': '2496513401.35', 'Market Cap': '4757819433.34'}\n",
      "{'Currency': 'litecoin', 'Date': 'Aug 22, 2019', 'Open': '72.9507682337', 'High': '74.5710150457', 'Low': '71.3090197387', 'Close': '73.5985957813', 'Volume': '2908864702.78', 'Market Cap': '4643456772.49'}\n",
      "{'Currency': 'litecoin', 'Date': 'Aug 21, 2019', 'Open': '75.2442747135', 'High': '75.4650743576', 'Low': '70.5821101147', 'Close': '72.9649534092', 'Volume': '2878567011.3', 'Market Cap': '4602987628.98'}\n",
      "{'Currency': 'litecoin', 'Date': 'Aug 23, 2019', 'Open': '73.5773281737', 'High': '75.692844921', 'Low': '72.8689594738', 'Close': '75.4028134995', 'Volume': '2496513401.35', 'Market Cap': '4757819433.34'}\n",
      "{'Currency': 'litecoin', 'Date': 'Aug 22, 2019', 'Open': '72.9507682337', 'High': '74.5710150457', 'Low': '71.3090197387', 'Close': '73.5985957813', 'Volume': '2908864702.78', 'Market Cap': '4643456772.49'}\n",
      "{'Currency': 'litecoin', 'Date': 'Aug 21, 2019', 'Open': '75.2442747135', 'High': '75.4650743576', 'Low': '70.5821101147', 'Close': '72.9649534092', 'Volume': '2878567011.3', 'Market Cap': '4602987628.98'}\n",
      "https://coinmarketcap.com/currencies/ripple/historical-data/?start=20190821&end=20190823\n",
      "{'Currency': 'ripple', 'Date': 'Aug 23, 2019', 'Open': '0.270574540476', 'High': '0.277567649145', 'Low': '0.268559999225', 'Close': '0.276544691254', 'Volume': '999419343.179', 'Market Cap': '11866405277.4'}\n",
      "{'Currency': 'ripple', 'Date': 'Aug 22, 2019', 'Open': '0.265801536523', 'High': '0.273342095628', 'Low': '0.261966803427', 'Close': '0.270944090281', 'Volume': '1065712730.67', 'Market Cap': '11620983953.0'}\n",
      "{'Currency': 'ripple', 'Date': 'Aug 21, 2019', 'Open': '0.275764876107', 'High': '0.275764876107', 'Low': '0.260688317483', 'Close': '0.266261068608', 'Volume': '1164536123.82', 'Market Cap': '11420125836.2'}\n",
      "{'Currency': 'ripple', 'Date': 'Aug 23, 2019', 'Open': '0.270574540476', 'High': '0.277567649145', 'Low': '0.268559999225', 'Close': '0.276544691254', 'Volume': '999419343.179', 'Market Cap': '11866405277.4'}\n",
      "{'Currency': 'ripple', 'Date': 'Aug 22, 2019', 'Open': '0.265801536523', 'High': '0.273342095628', 'Low': '0.261966803427', 'Close': '0.270944090281', 'Volume': '1065712730.67', 'Market Cap': '11620983953.0'}\n",
      "{'Currency': 'ripple', 'Date': 'Aug 21, 2019', 'Open': '0.275764876107', 'High': '0.275764876107', 'Low': '0.260688317483', 'Close': '0.266261068608', 'Volume': '1164536123.82', 'Market Cap': '11420125836.2'}\n",
      "https://coinmarketcap.com/currencies/stellar/historical-data/?start=20190821&end=20190823\n",
      "{'Currency': 'stellar', 'Date': 'Aug 23, 2019', 'Open': '0.0661510219359', 'High': '0.0694575139171', 'Low': '0.0655744974275', 'Close': '0.0689253121148', 'Volume': '111043772.209', 'Market Cap': '1353427205.09'}\n",
      "{'Currency': 'stellar', 'Date': 'Aug 22, 2019', 'Open': '0.0676559624919', 'High': '0.0694964242356', 'Low': '0.0639831322013', 'Close': '0.0661375592649', 'Volume': '110588268.2', 'Market Cap': '1298686392.09'}\n",
      "{'Currency': 'stellar', 'Date': 'Aug 21, 2019', 'Open': '0.0703092347975', 'High': '0.0703253739226', 'Low': '0.0669844466375', 'Close': '0.0676973150428', 'Volume': '110167825.882', 'Market Cap': '1329313975.36'}\n",
      "{'Currency': 'stellar', 'Date': 'Aug 23, 2019', 'Open': '0.0661510219359', 'High': '0.0694575139171', 'Low': '0.0655744974275', 'Close': '0.0689253121148', 'Volume': '111043772.209', 'Market Cap': '1353427205.09'}\n",
      "{'Currency': 'stellar', 'Date': 'Aug 22, 2019', 'Open': '0.0676559624919', 'High': '0.0694964242356', 'Low': '0.0639831322013', 'Close': '0.0661375592649', 'Volume': '110588268.2', 'Market Cap': '1298686392.09'}\n",
      "{'Currency': 'stellar', 'Date': 'Aug 21, 2019', 'Open': '0.0703092347975', 'High': '0.0703253739226', 'Low': '0.0669844466375', 'Close': '0.0676973150428', 'Volume': '110167825.882', 'Market Cap': '1329313975.36'}\n",
      "https://coinmarketcap.com/currencies/tether/historical-data/?start=20190821&end=20190823\n",
      "{'Currency': 'tether', 'Date': 'Aug 23, 2019', 'Open': '1.00295547466', 'High': '1.00734049552', 'Low': '0.995214200922', 'Close': '1.00390706701', 'Volume': '17469694438.6', 'Market Cap': '4064927505.51'}\n",
      "{'Currency': 'tether', 'Date': 'Aug 22, 2019', 'Open': '0.994162390617', 'High': '1.01500737373', 'Low': '0.9894967499', 'Close': '1.00297976075', 'Volume': '19233722240.7', 'Market Cap': '4055957258.09'}\n",
      "{'Currency': 'tether', 'Date': 'Aug 21, 2019', 'Open': '1.00056256082', 'High': '1.01245616261', 'Low': '0.988811410351', 'Close': '0.994471878558', 'Volume': '21391478351.2', 'Market Cap': '4021552170.49'}\n",
      "{'Currency': 'tether', 'Date': 'Aug 23, 2019', 'Open': '1.00295547466', 'High': '1.00734049552', 'Low': '0.995214200922', 'Close': '1.00390706701', 'Volume': '17469694438.6', 'Market Cap': '4064927505.51'}\n",
      "{'Currency': 'tether', 'Date': 'Aug 22, 2019', 'Open': '0.994162390617', 'High': '1.01500737373', 'Low': '0.9894967499', 'Close': '1.00297976075', 'Volume': '19233722240.7', 'Market Cap': '4055957258.09'}\n",
      "{'Currency': 'tether', 'Date': 'Aug 21, 2019', 'Open': '1.00056256082', 'High': '1.01245616261', 'Low': '0.988811410351', 'Close': '0.994471878558', 'Volume': '21391478351.2', 'Market Cap': '4021552170.49'}\n",
      "https://coinmarketcap.com/currencies/ethereum/historical-data/?start=20190821&end=20190823\n",
      "{'Currency': 'ethereum', 'Date': 'Aug 23, 2019', 'Open': '191.106870651', 'High': '195.906487438', 'Low': '189.562324256', 'Close': '194.706208556', 'Volume': '6658162376.91', 'Market Cap': '20920364878.5'}\n",
      "{'Currency': 'ethereum', 'Date': 'Aug 22, 2019', 'Open': '186.941237586', 'High': '194.415516107', 'Low': '183.384519117', 'Close': '191.332912454', 'Volume': '7569043874.25', 'Market Cap': '20555295232.6'}\n",
      "{'Currency': 'ethereum', 'Date': 'Aug 21, 2019', 'Open': '196.621696337', 'High': '197.027439205', 'Low': '182.689171076', 'Close': '186.891630451', 'Volume': '7775772700.39', 'Market Cap': '20075644244.6'}\n",
      "{'Currency': 'ethereum', 'Date': 'Aug 23, 2019', 'Open': '191.106870651', 'High': '195.906487438', 'Low': '189.562324256', 'Close': '194.706208556', 'Volume': '6658162376.91', 'Market Cap': '20920364878.5'}\n",
      "{'Currency': 'ethereum', 'Date': 'Aug 22, 2019', 'Open': '186.941237586', 'High': '194.415516107', 'Low': '183.384519117', 'Close': '191.332912454', 'Volume': '7569043874.25', 'Market Cap': '20555295232.6'}\n",
      "{'Currency': 'ethereum', 'Date': 'Aug 21, 2019', 'Open': '196.621696337', 'High': '197.027439205', 'Low': '182.689171076', 'Close': '186.891630451', 'Volume': '7775772700.39', 'Market Cap': '20075644244.6'}\n",
      "https://coinmarketcap.com/currencies/eos/historical-data/?start=20190821&end=20190823\n",
      "{'Currency': 'eos', 'Date': 'Aug 23, 2019', 'Open': '3.6386984067', 'High': '3.72652959293', 'Low': '3.61182499407', 'Close': '3.68232934256', 'Volume': '1535132625.94', 'Market Cap': '3419845291.38'}\n",
      "{'Currency': 'eos', 'Date': 'Aug 22, 2019', 'Open': '3.49869144902', 'High': '3.68504937376', 'Low': '3.45285537296', 'Close': '3.6386984067', 'Volume': '1571657696.28', 'Market Cap': '3378816195.61'}\n",
      "{'Currency': 'eos', 'Date': 'Aug 21, 2019', 'Open': '3.67976489887', 'High': '3.68817374986', 'Low': '3.42302978636', 'Close': '3.49874647289', 'Volume': '1668700840.25', 'Market Cap': '3248395586.66'}\n",
      "{'Currency': 'eos', 'Date': 'Aug 23, 2019', 'Open': '3.6386984067', 'High': '3.72652959293', 'Low': '3.61182499407', 'Close': '3.68232934256', 'Volume': '1535132625.94', 'Market Cap': '3419845291.38'}\n",
      "{'Currency': 'eos', 'Date': 'Aug 22, 2019', 'Open': '3.49869144902', 'High': '3.68504937376', 'Low': '3.45285537296', 'Close': '3.6386984067', 'Volume': '1571657696.28', 'Market Cap': '3378816195.61'}\n",
      "{'Currency': 'eos', 'Date': 'Aug 21, 2019', 'Open': '3.67976489887', 'High': '3.68817374986', 'Low': '3.42302978636', 'Close': '3.49874647289', 'Volume': '1668700840.25', 'Market Cap': '3248395586.66'}\n",
      "https://coinmarketcap.com/currencies/bitcoin-cash/historical-data/?start=20190821&end=20190823\n",
      "{'Currency': 'bitcoin-cash', 'Date': 'Aug 23, 2019', 'Open': '311.322621854', 'High': '317.577411021', 'Low': '305.725597636', 'Close': '316.826416501', 'Volume': '1442794558.16', 'Market Cap': '5691438063.38'}\n",
      "{'Currency': 'bitcoin-cash', 'Date': 'Aug 22, 2019', 'Open': '303.08331717', 'High': '312.870363202', 'Low': '295.585541775', 'Close': '311.327015297', 'Volume': '1476522148.75', 'Market Cap': '5592067523.53'}\n",
      "{'Currency': 'bitcoin-cash', 'Date': 'Aug 21, 2019', 'Open': '316.282349543', 'High': '316.282349543', 'Low': '293.931626565', 'Close': '302.986833586', 'Volume': '1452981237.79', 'Market Cap': '5441704128.57'}\n",
      "{'Currency': 'bitcoin-cash', 'Date': 'Aug 23, 2019', 'Open': '311.322621854', 'High': '317.577411021', 'Low': '305.725597636', 'Close': '316.826416501', 'Volume': '1442794558.16', 'Market Cap': '5691438063.38'}\n",
      "{'Currency': 'bitcoin-cash', 'Date': 'Aug 22, 2019', 'Open': '303.08331717', 'High': '312.870363202', 'Low': '295.585541775', 'Close': '311.327015297', 'Volume': '1476522148.75', 'Market Cap': '5592067523.53'}\n",
      "{'Currency': 'bitcoin-cash', 'Date': 'Aug 21, 2019', 'Open': '316.282349543', 'High': '316.282349543', 'Low': '293.931626565', 'Close': '302.986833586', 'Volume': '1452981237.79', 'Market Cap': '5441704128.57'}\n",
      "https://coinmarketcap.com/currencies/binance-coin/historical-data/?start=20190821&end=20190823\n",
      "{'Currency': 'binance-coin', 'Date': 'Aug 23, 2019', 'Open': '27.089190616', 'High': '27.3902803888', 'Low': '26.8528489699', 'Close': '27.1705296068', 'Volume': '195437616.033', 'Market Cap': '4226014865.51'}\n",
      "{'Currency': 'binance-coin', 'Date': 'Aug 22, 2019', 'Open': '26.99371603', 'High': '27.4452821329', 'Low': '26.429413879', 'Close': '27.089190616', 'Volume': '193368565.681', 'Market Cap': '4213363666.24'}\n",
      "{'Currency': 'binance-coin', 'Date': 'Aug 21, 2019', 'Open': '28.1661901155', 'High': '28.1661901155', 'Low': '26.5932858858', 'Close': '26.99371603', 'Volume': '198468093.115', 'Market Cap': '4198513862.96'}\n",
      "{'Currency': 'binance-coin', 'Date': 'Aug 23, 2019', 'Open': '27.089190616', 'High': '27.3902803888', 'Low': '26.8528489699', 'Close': '27.1705296068', 'Volume': '195437616.033', 'Market Cap': '4226014865.51'}\n",
      "{'Currency': 'binance-coin', 'Date': 'Aug 22, 2019', 'Open': '26.99371603', 'High': '27.4452821329', 'Low': '26.429413879', 'Close': '27.089190616', 'Volume': '193368565.681', 'Market Cap': '4213363666.24'}\n",
      "{'Currency': 'binance-coin', 'Date': 'Aug 21, 2019', 'Open': '28.1661901155', 'High': '28.1661901155', 'Low': '26.5932858858', 'Close': '26.99371603', 'Volume': '198468093.115', 'Market Cap': '4198513862.96'}\n",
      "https://coinmarketcap.com/currencies/cardano/historical-data/?start=20190821&end=20190823\n",
      "{'Currency': 'cardano', 'Date': 'Aug 23, 2019', 'Open': '0.0494097863456', 'High': '0.0502671405342', 'Low': '0.0489033687734', 'Close': '0.0497898730523', 'Volume': '54095276.0543', 'Market Cap': '1290905550.71'}\n",
      "{'Currency': 'cardano', 'Date': 'Aug 22, 2019', 'Open': '0.0471527005321', 'High': '0.0511606244368', 'Low': '0.0467389309853', 'Close': '0.0494097863456', 'Volume': '60163312.758', 'Market Cap': '1281051015.85'}\n",
      "{'Currency': 'cardano', 'Date': 'Aug 21, 2019', 'Open': '0.0492261536549', 'High': '0.0492261536549', 'Low': '0.0460459716749', 'Close': '0.0471129779327', 'Volume': '43633315.0035', 'Market Cap': '1221501502.12'}\n",
      "{'Currency': 'cardano', 'Date': 'Aug 23, 2019', 'Open': '0.0494097863456', 'High': '0.0502671405342', 'Low': '0.0489033687734', 'Close': '0.0497898730523', 'Volume': '54095276.0543', 'Market Cap': '1290905550.71'}\n",
      "{'Currency': 'cardano', 'Date': 'Aug 22, 2019', 'Open': '0.0471527005321', 'High': '0.0511606244368', 'Low': '0.0467389309853', 'Close': '0.0494097863456', 'Volume': '60163312.758', 'Market Cap': '1281051015.85'}\n",
      "{'Currency': 'cardano', 'Date': 'Aug 21, 2019', 'Open': '0.0492261536549', 'High': '0.0492261536549', 'Low': '0.0460459716749', 'Close': '0.0471129779327', 'Volume': '43633315.0035', 'Market Cap': '1221501502.12'}\n"
     ]
    }
   ],
   "source": [
    "for i in monitored_currencies:\n",
    "    with open('target.csv','a') as cd:\n",
    "        fieldnames = ['Currency','Date','Open','High','Low','Close','Volume','Market Cap']\n",
    "        csv_writer = csv.DictWriter(cd, delimiter=',', quotechar='\"', fieldnames=fieldnames)\n",
    "        response = get_price(i)\n",
    "        for x in response:\n",
    "            print(x)\n",
    "            csv_writer.writerow(x)"
   ]
  },
  {
   "cell_type": "code",
   "execution_count": null,
   "metadata": {},
   "outputs": [],
   "source": []
  }
 ],
 "metadata": {
  "kernelspec": {
   "display_name": "Python 3",
   "language": "python",
   "name": "python3"
  },
  "language_info": {
   "codemirror_mode": {
    "name": "ipython",
    "version": 3
   },
   "file_extension": ".py",
   "mimetype": "text/x-python",
   "name": "python",
   "nbconvert_exporter": "python",
   "pygments_lexer": "ipython3",
   "version": "3.7.3"
  }
 },
 "nbformat": 4,
 "nbformat_minor": 4
}
